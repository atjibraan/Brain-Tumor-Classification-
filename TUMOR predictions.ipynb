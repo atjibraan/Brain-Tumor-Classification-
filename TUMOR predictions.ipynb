{
 "cells": [
  {
   "cell_type": "code",
   "execution_count": 1,
   "id": "6782fa55",
   "metadata": {},
   "outputs": [],
   "source": [
    "# Import necessary libraries\n",
    "import os\n",
    "import numpy as np\n",
    "import pandas as pd\n",
    "import matplotlib.pyplot as plt\n",
    "from pathlib import Path\n",
    "from sklearn.metrics import classification_report, confusion_matrix, roc_auc_score\n",
    "import seaborn as sns\n",
    "from tensorflow.keras.preprocessing.image import ImageDataGenerator, load_img, img_to_array\n",
    "from tensorflow.keras.applications import VGG16\n",
    "from tensorflow.keras.models import Model\n",
    "from tensorflow.keras.layers import Dense, Flatten\n",
    "from tensorflow.keras.utils import to_categorical\n",
    "from tensorflow.keras.optimizers import Adam\n",
    "from sklearn.model_selection import train_test_split"
   ]
  },
  {
   "cell_type": "code",
   "execution_count": 1,
   "id": "ce23b9f1",
   "metadata": {},
   "outputs": [
    {
     "ename": "NameError",
     "evalue": "name 'mage_size' is not defined",
     "output_type": "error",
     "traceback": [
      "\u001b[1;31m---------------------------------------------------------------------------\u001b[0m",
      "\u001b[1;31mNameError\u001b[0m                                 Traceback (most recent call last)",
      "Cell \u001b[1;32mIn[1], line 29\u001b[0m\n\u001b[0;32m     26\u001b[0m image_path \u001b[38;5;241m=\u001b[39m \u001b[38;5;124mr\u001b[39m\u001b[38;5;124m\"\u001b[39m\u001b[38;5;124mD:\u001b[39m\u001b[38;5;124m\\\u001b[39m\u001b[38;5;124mOneDrive\u001b[39m\u001b[38;5;124m\\\u001b[39m\u001b[38;5;124mDesktop\u001b[39m\u001b[38;5;124m\\\u001b[39m\u001b[38;5;124m101.png\u001b[39m\u001b[38;5;124m\"\u001b[39m \u001b[38;5;66;03m# Replace with your real MRI image path\u001b[39;00m\n\u001b[0;32m     28\u001b[0m \u001b[38;5;66;03m# Predict the class of the MRI image\u001b[39;00m\n\u001b[1;32m---> 29\u001b[0m predicted_class, prediction \u001b[38;5;241m=\u001b[39m predict_real_image(image_path, model,mage_size )\n\u001b[0;32m     31\u001b[0m \u001b[38;5;66;03m# Display the image and prediction result\u001b[39;00m\n\u001b[0;32m     32\u001b[0m img \u001b[38;5;241m=\u001b[39m load_img(image_path, target_size\u001b[38;5;241m=\u001b[39mIMAGE_SIZE)\n",
      "\u001b[1;31mNameError\u001b[0m: name 'mage_size' is not defined"
     ]
    }
   ],
   "source": [
    "# Import necessary libraries\n",
    "import numpy as np\n",
    "import matplotlib.pyplot as plt\n",
    "from tensorflow.keras.preprocessing.image import load_img, img_to_array\n",
    "from tensorflow.keras.models import load_model\n",
    "\n",
    "# Function to load and preprocess a real MRI image\n",
    "def load_and_preprocess_real_image(image_path, image_size):\n",
    "    img = load_img(image_path, target_size=image_size)  # Load image and resize\n",
    "    img_array = img_to_array(img) / 255.0  # Normalize to [0, 1]\n",
    "    img_array = np.expand_dims(img_array, axis=0)  # Add batch dimension\n",
    "    return img_array\n",
    "\n",
    "# Function to predict the class of a real MRI image\n",
    "def predict_real_image(image_path, model, image_size):\n",
    "    img_array = load_and_preprocess_real_image(image_path, image_size)  # Preprocess the image\n",
    "    prediction = model.predict(img_array)  # Get model prediction\n",
    "    predicted_class_idx = np.argmax(prediction, axis=1)  # Get the class index\n",
    "    predicted_class = CLASSES[predicted_class_idx[0]]  # Map index to class label\n",
    "    return predicted_class, prediction\n",
    "\n",
    "# Load your trained model (make sure to replace 'your_model_path.h5' with your actual model file path)\n",
    "model = load_model('your_model_path.h5')  # Assuming you've saved the trained model\n",
    "\n",
    "# Path to your real MRI image (adjust this path to where your image is located)\n",
    "image_path = r\"D:\\OneDrive\\Desktop\\101.png\" # Replace with your real MRI image path\n",
    "\n",
    "# Predict the class of the MRI image\n",
    "predicted_class, prediction = predict_real_image(image_path, model,mage_size )\n",
    "\n",
    "# Display the image and prediction result\n",
    "img = load_img(image_path, target_size=IMAGE_SIZE)\n",
    "plt.imshow(img)\n",
    "plt.title(f\"Predicted Class: {predicted_class}\")\n",
    "plt.axis('off')\n",
    "plt.show()\n",
    "\n",
    "# Print prediction probabilities\n",
    "print(f\"Prediction Probabilities: {prediction}\")\n"
   ]
  },
  {
   "cell_type": "code",
   "execution_count": 12,
   "id": "d122d8d2",
   "metadata": {},
   "outputs": [
    {
     "name": "stdout",
     "output_type": "stream",
     "text": [
      "1/1 [==============================] - 0s 162ms/step\n"
     ]
    },
    {
     "data": {
      "image/png": "[encoded data removed]",
      "text/plain": [
       "<Figure size 640x480 with 1 Axes>"
      ]
     },
     "metadata": {},
     "output_type": "display_data"
    },
    {
     "name": "stdout",
     "output_type": "stream",
     "text": [
      "Prediction Probabilities: [[3.3987324e-06 9.9797052e-01 6.9409194e-05 1.9566389e-03]]\n"
     ]
    }
   ],
   "source": [
    "# Import necessary libraries\n",
    "import numpy as np\n",
    "import matplotlib.pyplot as plt\n",
    "from tensorflow.keras.preprocessing.image import load_img, img_to_array\n",
    "from tensorflow.keras.models import load_model\n",
    "\n",
    "# Function to load and preprocess a real MRI image\n",
    "def load_and_preprocess_real_image(image_path, image_size):\n",
    "    img = load_img(image_path, target_size=image_size)  # Load image and resize\n",
    "    img_array = img_to_array(img) / 255.0  # Normalize to [0, 1]\n",
    "    img_array = np.expand_dims(img_array, axis=0)  # Add batch dimension\n",
    "    return img_array\n",
    "\n",
    "# Function to predict the class of a real MRI image\n",
    "def predict_real_image(image_path, model, image_size):\n",
    "    img_array = load_and_preprocess_real_image(image_path, image_size)  # Preprocess the image\n",
    "    prediction = model.predict(img_array)  # Get model prediction\n",
    "    predicted_class_idx = np.argmax(prediction, axis=1)  # Get the class index\n",
    "    predicted_class = CLASSES[predicted_class_idx[0]]  # Map index to class label\n",
    "    return predicted_class, prediction\n",
    "\n",
    "# Load your trained model (make sure to replace 'your_model_path.h5' with your actual model file path)\n",
    "model = load_model('bt.h5')  # Assuming you've saved the trained model\n",
    "\n",
    "# Path to your real MRI image (adjust this path to where your image is located)\n",
    "image_path = r\"D:\\OneDrive\\Desktop\\image(16).jpg\" # Replace with your real MRI image path\n",
    "\n",
    "# Predict the class of the MRI image\n",
    "predicted_class, prediction = predict_real_image(image_path, model, IMAGE_SIZE)\n",
    "\n",
    "# Display the image and prediction result\n",
    "img = load_img(image_path, target_size=IMAGE_SIZE)\n",
    "plt.imshow(img)\n",
    "plt.title(f\"Predicted Class: {predicted_class}\")\n",
    "plt.axis('off')\n",
    "plt.show()\n",
    "\n",
    "# Print prediction probabilities\n",
    "print(f\"Prediction Probabilities: {prediction}\")\n"
   ]
  },
  {
   "cell_type": "code",
   "execution_count": null,
   "id": "5726d487",
   "metadata": {},
   "outputs": [],
   "source": []
  }
 ],
 "metadata": {
  "kernelspec": {
   "display_name": "Python 3 (ipykernel)",
   "language": "python",
   "name": "python3"
  },
  "language_info": {
   "codemirror_mode": {
    "name": "ipython",
    "version": 3
   },
   "file_extension": ".py",
   "mimetype": "text/x-python",
   "name": "python",
   "nbconvert_exporter": "python",
   "pygments_lexer": "ipython3",
   "version": "3.11.7"
  }
 },
 "nbformat": 4,
 "nbformat_minor": 5
}
